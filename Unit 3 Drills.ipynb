{
 "cells": [
  {
   "cell_type": "markdown",
   "metadata": {},
   "source": [
    "# Unit 3 Drills"
   ]
  },
  {
   "cell_type": "markdown",
   "metadata": {},
   "source": [
    "## Lesson 1 Drill"
   ]
  },
  {
   "cell_type": "markdown",
   "metadata": {
    "collapsed": true
   },
   "source": [
    "import math\n",
    "import numpy as np\n",
    "import statistics as stats"
   ]
  },
  {
   "cell_type": "markdown",
   "metadata": {},
   "source": [
    "### mean, median, and mode of the kids' ages; variance, standard deviation, and standard error"
   ]
  },
  {
   "cell_type": "code",
   "execution_count": 9,
   "metadata": {
    "collapsed": true
   },
   "outputs": [],
   "source": [
    "ages = [14, 12, 11, 10, 8, 6, 8]"
   ]
  },
  {
   "cell_type": "code",
   "execution_count": 16,
   "metadata": {
    "collapsed": true
   },
   "outputs": [],
   "source": [
    "n = len(ages)"
   ]
  },
  {
   "cell_type": "code",
   "execution_count": 14,
   "metadata": {
    "collapsed": false
   },
   "outputs": [
    {
     "name": "stdout",
     "output_type": "stream",
     "text": [
      "9.85714285714\n"
     ]
    }
   ],
   "source": [
    "mean = np.mean(ages)\n",
    "print(mean)"
   ]
  },
  {
   "cell_type": "code",
   "execution_count": 11,
   "metadata": {
    "collapsed": false
   },
   "outputs": [
    {
     "data": {
      "text/plain": [
       "10.0"
      ]
     },
     "execution_count": 11,
     "metadata": {},
     "output_type": "execute_result"
    }
   ],
   "source": [
    "np.median(ages)"
   ]
  },
  {
   "cell_type": "code",
   "execution_count": 12,
   "metadata": {
    "collapsed": false
   },
   "outputs": [
    {
     "data": {
      "text/plain": [
       "8"
      ]
     },
     "execution_count": 12,
     "metadata": {},
     "output_type": "execute_result"
    }
   ],
   "source": [
    "stats.mode(ages)"
   ]
  },
  {
   "cell_type": "code",
   "execution_count": 18,
   "metadata": {
    "collapsed": false
   },
   "outputs": [
    {
     "name": "stdout",
     "output_type": "stream",
     "text": [
      "7.47619047619\n"
     ]
    }
   ],
   "source": [
    "# variance (sample)\n",
    "var = sum((ages - mean) **2) / (n - 1)\n",
    "print(var)"
   ]
  },
  {
   "cell_type": "code",
   "execution_count": 25,
   "metadata": {
    "collapsed": false
   },
   "outputs": [
    {
     "name": "stdout",
     "output_type": "stream",
     "text": [
      "2.73426232761\n"
     ]
    }
   ],
   "source": [
    "# standard deviation (sample)\n",
    "sd = np.std(ages, ddof=1)\n",
    "print(sd)\n",
    "# math formula\n",
    "if sd != math.sqrt(var): print(\"ALERT: ERROR IN CALCULATION\")"
   ]
  },
  {
   "cell_type": "code",
   "execution_count": 28,
   "metadata": {
    "collapsed": false,
    "scrolled": false
   },
   "outputs": [
    {
     "name": "stdout",
     "output_type": "stream",
     "text": [
      "1.03345401972\n"
     ]
    }
   ],
   "source": [
    "# standard error of the mean\n",
    "se = np.std(ages, ddof=1) / np.sqrt(n)\n",
    "print(se)\n",
    "# math formula\n",
    "if se != sd / math.sqrt(n): print(\"ALERT: ERROR IN CALCULATION\")"
   ]
  },
  {
   "cell_type": "markdown",
   "metadata": {},
   "source": [
    "### Using these estimates, if you had to choose only one estimate of central tendency and one estimate of variance to describe the data, which would you pick and why?\n",
    "The mean serves well for central tendency; the skew is slight, and outliers do not appear. The mode \n",
    "\n",
    "The small SE of 1.03 highlights the precision of this sample mean estimate."
   ]
  },
  {
   "cell_type": "markdown",
   "metadata": {},
   "source": [
    "#### Cindy turns 7: update array"
   ]
  },
  {
   "cell_type": "code",
   "execution_count": 33,
   "metadata": {
    "collapsed": false
   },
   "outputs": [],
   "source": [
    "ages2 = [14, 12, 11, 10, 8, 6+1, 8]\n",
    "\n",
    "mean = np.mean(ages2)\n",
    "\n",
    "np.median(ages2)\n",
    "\n",
    "stats.mode(ages2)\n",
    "\n",
    "# variance (sample)\n",
    "var = sum((ages2 - mean) **2) / (n - 1)\n",
    "\n",
    "# standard deviation (sample)\n",
    "sd = np.std(ages2, ddof=1)\n",
    "# math formula\n",
    "if sd != math.sqrt(var): print(\"ALERT: ERROR IN CALCULATION\")\n",
    "\n",
    "# standard error of the mean\n",
    "se = np.std(ages2, ddof=1) / np.sqrt(n)\n",
    "# math formula\n",
    "if se != sd / math.sqrt(n): print(\"ALERT: ERROR IN CALCULATION\")\n"
   ]
  },
  {
   "cell_type": "markdown",
   "metadata": {},
   "source": [
    "The mean changes; median and mode remain the same.\n",
    "\n",
    "Consequently the variance, standard deviation and standard error all change."
   ]
  },
  {
   "cell_type": "code",
   "execution_count": 45,
   "metadata": {
    "collapsed": false
   },
   "outputs": [
    {
     "name": "stdout",
     "output_type": "stream",
     "text": [
      "mean is 8.857142857142858\n",
      "median is 10.0\n",
      "No unique mode. All are unique\n",
      "var is 18.80952380952381\n",
      "sd is 4.3369947901195145\n",
      "se is 1.6392299502912862\n"
     ]
    }
   ],
   "source": [
    "ages3 = [14, 12, 11, 10, 8, 6, 1]  # Cousin Oliver removed\n",
    "\n",
    "mean = np.mean(ages3)\n",
    "print(\"mean is {}\".format(mean))\n",
    "\n",
    "print(\"median is {}\".format(np.median(ages3)))\n",
    "print(\"No unique mode. All are unique\")\n",
    "\n",
    "# variance (sample)\n",
    "var = sum((ages3 - mean) **2) / (n - 1)\n",
    "print(\"var is {}\".format(var))\n",
    "\n",
    "# standard deviation (sample)\n",
    "sd = np.std(ages3, ddof=1)\n",
    "print(\"sd is {}\".format(sd))\n",
    "\n",
    "# standard error of the mean\n",
    "se = np.std(ages3, ddof=1) / np.sqrt(n)\n",
    "print(\"se is {}\".format(se))\n"
   ]
  },
  {
   "cell_type": "markdown",
   "metadata": {},
   "source": [
    "The mean is pulled down precisely one whole year, on account of this one outlier.\n",
    "The median is unaffected by only one outlier, becoming the most precise indicator of central tendency.\n",
    "No single mode remains; all ages are unique.\n",
    "\n",
    "VAR, SD and SE all jump up tremendously."
   ]
  },
  {
   "cell_type": "markdown",
   "metadata": {},
   "source": [
    "### Question 5\n",
    "On the 50th anniversary of The Brady Bunch, four different magazines asked their readers whether they were fans of the show. The answers were: TV Guide 20% fans Entertainment Weekly 23% fans Pop Culture Today 17% fans SciPhi Phanatic 5% fans\n",
    "\n",
    "Based on these numbers, what percentage of adult Americans would you estimate were Brady Bunch fans on the 50th anniversary of the show?"
   ]
  },
  {
   "cell_type": "markdown",
   "metadata": {},
   "source": [
    "# Unit 3 Drills (cont.)\n",
    "\n",
    "## Lesson 2.4 Drill: Probability"
   ]
  },
  {
   "cell_type": "markdown",
   "metadata": {},
   "source": [
    "#### Calculate the probability of flipping a balanced coin four times and getting each pattern: HTTH, HHHH and TTHH.\n",
    "(1/2) **4 = 1/16 for each of these ordered patterns.\n",
    "\n",
    "\n",
    "#### If a list of people has 24 women and 21 men, then the probability of choosing a man from the list is 21/45. What is the probability of not choosing a man?\n",
    "24/45\n",
    "\n",
    "\n",
    "#### The probability that Bernice will travel by plane sometime in the next year is 10%. The probability of a plane crash at any time is .005%. What is the probability that Bernice will be in a plane crash sometime in the next year?\n",
    ".0005%\n",
    "\n",
    "\n",
    "#### A data scientist wants to study the behavior of users on the company website. Each time a user clicks on a link on the website, there is a 5% chance that the user will be asked to complete a short survey about their behavior on the website. The data scientist uses the survey data to conclude that, on average, users spend 15 minutes surfing the company website before moving on to other things. What is wrong with this conclusion?\n",
    "The survey only collects data from people who not only opt-in, or self-select, in to the survey, but people who are patient and persistant enough to complete it. One example of website user data not captured are from those with quicker online behavior, a shorter attention span, or less interest in volunteering their time to assist with the survey."
   ]
  },
  {
   "cell_type": "markdown",
   "metadata": {},
   "source": [
    "# Unit 3 Drills (cont.)\n",
    "\n",
    "## Lesson 2 Project 6 Drill: Bayes' Rule"
   ]
  },
  {
   "cell_type": "code",
   "execution_count": null,
   "metadata": {
    "collapsed": true
   },
   "outputs": [],
   "source": []
  },
  {
   "cell_type": "markdown",
   "metadata": {},
   "source": [
    "## Lesson 2 Project 7 Drill: Evaluating data sources\n",
    "\n",
    "Possible shortcomings in terms of bias, objective quality or exceptional circumstance of the data sources\n",
    "What could be done to either adjust the analysis or reframe the question for accuracy?\n",
    "\n",
    "Data Source: Amsterdam availability data scraped from AirBnB on December 24th. \n",
    "Question: What are the popular neighborhoods in Amsterdam?\n",
    "\n",
    "    Concern: a major holiday weekend can skew the results. Conclusions can be formed for holiday travel, or for a vacation destination like Amsterdam, but not for an overall general conclusion.\n",
    "\n",
    "Data Source: Mental health services use on September 12, 2001 in San Francisco, CA and New York City, NY. \n",
    "    Question: How do patterns of mental health service use vary between cities?\n",
    "\n",
    "    Concern: SF and especially NYC were heavily affected by the tragedies on 9/11.  Furthermore, social services including mental health services could very well be under strain in that aftermath.\n",
    "        \n",
    "Data Source: Armenian Pub Survey. Question: What are the most common reasons Armenians visit local pubs?\n",
    "\n",
    "    Concern: This data will only capture info from the Armenians who visit pubs, not the general public, including children or those with temperate preferences on alcohol.  Furthermore, if it's not geographically confined to Armenia, e.g. Armenian pubs in America, then it could capture American customers, whether or not they know it's an Armenian pub."
   ]
  },
  {
   "cell_type": "code",
   "execution_count": null,
   "metadata": {
    "collapsed": true
   },
   "outputs": [],
   "source": []
  },
  {
   "cell_type": "markdown",
   "metadata": {},
   "source": [
    "## Unit 3 Lesson 2 Project 8\n",
    "### Challenge - Beware of Monty Hall\n",
    "\n",
    "The idea behind understanding the Monty Hall Problem is applying conditional probability against intuitive feeling.\n",
    "\n",
    "Suppose you choose door A and then door B is opened, revealing nothing. Door B becomes the condition, the given event.  This means that, given that door B is opened, we calculate the probability of door A having the car, and then door C.\n",
    "\n",
    "Case 1: player selects door A with car.\n",
    "Probability: 1/3.\n",
    "\tCase 1a: player selects door A with car, and then Monty opens goat behind B.\n",
    "\tProbability: 1/6.\n",
    "\tCase 1b: player selects door A with car, and then Monty opens goat behind C.\n",
    "\tProbability: 1/6.\n",
    "\n",
    "Case 2: player selects door A with goat (car behind C).\n",
    "Probability: 1/3.\n",
    "\tCase 2a: player selects door A with goat, and then Monty opens goat behind B.\n",
    "\tProbability: 1/3.\n",
    "\tCase 2b: player selects door A with goat, and then Monty opens car behind C.\n",
    "\tProbability: 0.\n",
    "\n",
    "Case 3: player selects door A with goat (car behind B).\n",
    "Probability: 1/3.\n",
    "\tCase 3a: player selects door A with goat, and then Monty opens goat behind B.\n",
    "\tProbability: 0.\n",
    "\tCase 3b: player selects door A with goat, and then Monty opens car behind C.\n",
    "\tProbability: 1/3.\n",
    "\n",
    "The car cannot be behind door B since it is opened.  So the possibilities are: Case 1a and 2a. Outside of these possibilities are cases that CANNOT occur (2b, 3a) or DID not occur (of C opening, cases 1b and 3b)."
   ]
  },
  {
   "cell_type": "code",
   "execution_count": null,
   "metadata": {
    "collapsed": true
   },
   "outputs": [],
   "source": []
  }
 ],
 "metadata": {
  "anaconda-cloud": {},
  "kernelspec": {
   "display_name": "Python [Root]",
   "language": "python",
   "name": "Python [Root]"
  },
  "language_info": {
   "codemirror_mode": {
    "name": "ipython",
    "version": 3
   },
   "file_extension": ".py",
   "mimetype": "text/x-python",
   "name": "python",
   "nbconvert_exporter": "python",
   "pygments_lexer": "ipython3",
   "version": "3.5.2"
  }
 },
 "nbformat": 4,
 "nbformat_minor": 2
}
