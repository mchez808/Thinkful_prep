{
 "cells": [
  {
   "cell_type": "code",
   "execution_count": 1,
   "metadata": {
    "collapsed": true
   },
   "outputs": [],
   "source": [
    "import matplotlib.pyplot as plt\n",
    "import numpy as np\n",
    "import pandas as pd\n",
    "%matplotlib inline"
   ]
  },
  {
   "cell_type": "markdown",
   "metadata": {},
   "source": [
    "# Challenge - What do you see?"
   ]
  },
  {
   "cell_type": "markdown",
   "metadata": {},
   "source": [
    "https://courses.thinkful.com/data-201-prepv1/project/2.2.4"
   ]
  },
  {
   "cell_type": "markdown",
   "metadata": {},
   "source": [
    "# Data Sources\n",
    "## UN data:\n",
    "http://data.un.org/Explorer.aspx\n",
    "\n",
    "<> Energy Statistics Database - crude oil exports\n",
    "\n",
    "<> UNODC Homicide Statistics 2012\n"
   ]
  },
  {
   "cell_type": "code",
   "execution_count": 2,
   "metadata": {
    "collapsed": false
   },
   "outputs": [],
   "source": [
    "oil_ex = pd.read_csv('data/UN/crude_oil_exports.csv')"
   ]
  },
  {
   "cell_type": "code",
   "execution_count": 3,
   "metadata": {
    "collapsed": true
   },
   "outputs": [],
   "source": [
    "homicide = pd.read_csv('data/UN/homicide.csv')"
   ]
  },
  {
   "cell_type": "code",
   "execution_count": 5,
   "metadata": {
    "collapsed": true
   },
   "outputs": [],
   "source": [
    "# not used: oil production\n",
    "# oil_prod = pd.read_csv('data/UN/crude_oil_production.csv')"
   ]
  },
  {
   "cell_type": "markdown",
   "metadata": {},
   "source": [
    "## Hypothesis\n",
    "\n",
    "With UN country data on export volume and homicide rates, the hypothesis is that among the major oil-exporting nations (particularly those whose economies are predominantly reliant on oil), there would be an inverse relationship between export volume and homicides. With more exports, there's more profit and therefore more general economic stability, showing its way through lower levels of violent crime."
   ]
  },
  {
   "cell_type": "markdown",
   "metadata": {},
   "source": [
    "## Data Exploration and Manipulation"
   ]
  },
  {
   "cell_type": "code",
   "execution_count": 4,
   "metadata": {
    "collapsed": true
   },
   "outputs": [],
   "source": [
    "# source: http://www.worldstopexports.com/worlds-top-oil-exports-country/\n",
    "oil_exporting_nations = ['Saudi Arabia', 'Russia', 'Iraq', 'Canada', 'UAE', \n",
    "    'Kuwait', 'Iran', 'Nigeria', 'Angola', 'Norway', \n",
    "    'Venezuela', 'Kazakhstan', 'Mexico', 'Qatar', 'United Kingdom'] "
   ]
  },
  {
   "cell_type": "markdown",
   "metadata": {},
   "source": [
    "#### testing smaller subsets to get the right code"
   ]
  },
  {
   "cell_type": "code",
   "execution_count": 6,
   "metadata": {
    "collapsed": true
   },
   "outputs": [],
   "source": [
    "test_nations = ['Algeria']"
   ]
  },
  {
   "cell_type": "code",
   "execution_count": 7,
   "metadata": {
    "collapsed": false
   },
   "outputs": [],
   "source": [
    "testdf = oil_ex.head(12)"
   ]
  },
  {
   "cell_type": "markdown",
   "metadata": {},
   "source": [
    "# Question for mentor"
   ]
  },
  {
   "cell_type": "code",
   "execution_count": 8,
   "metadata": {
    "collapsed": true
   },
   "outputs": [],
   "source": [
    "# Is there a better way to perform this without a loop?\n",
    "country_in_test_nations = []\n",
    "for i in range(len(testdf)):\n",
    "    country_in_test_nations.append(testdf['Country or Area'][i] in test_nations)"
   ]
  },
  {
   "cell_type": "code",
   "execution_count": 11,
   "metadata": {
    "collapsed": false
   },
   "outputs": [
    {
     "name": "stderr",
     "output_type": "stream",
     "text": [
      "C:\\Users\\Mark\\Anaconda3\\lib\\site-packages\\ipykernel\\__main__.py:1: SettingWithCopyWarning: \n",
      "A value is trying to be set on a copy of a slice from a DataFrame.\n",
      "Try using .loc[row_indexer,col_indexer] = value instead\n",
      "\n",
      "See the caveats in the documentation: http://pandas.pydata.org/pandas-docs/stable/indexing.html#indexing-view-versus-copy\n",
      "  if __name__ == '__main__':\n"
     ]
    }
   ],
   "source": [
    "testdf['nations of interest'] = country_in_test_nations"
   ]
  },
  {
   "cell_type": "code",
   "execution_count": null,
   "metadata": {
    "collapsed": true
   },
   "outputs": [],
   "source": [
    "testdf"
   ]
  },
  {
   "cell_type": "code",
   "execution_count": 13,
   "metadata": {
    "collapsed": false
   },
   "outputs": [
    {
     "data": {
      "text/html": [
       "<div>\n",
       "<table border=\"1\" class=\"dataframe\">\n",
       "  <thead>\n",
       "    <tr style=\"text-align: right;\">\n",
       "      <th></th>\n",
       "      <th>Country or Area</th>\n",
       "      <th>Commodity - Transaction</th>\n",
       "      <th>Year</th>\n",
       "      <th>Unit</th>\n",
       "      <th>Quantity</th>\n",
       "      <th>Quantity Footnotes</th>\n",
       "      <th>nations of interest</th>\n",
       "    </tr>\n",
       "  </thead>\n",
       "  <tbody>\n",
       "    <tr>\n",
       "      <th>11</th>\n",
       "      <td>Algeria</td>\n",
       "      <td>Conventional crude oil - exports</td>\n",
       "      <td>2014.0</td>\n",
       "      <td>Metric tons,  thousand</td>\n",
       "      <td>23550.0</td>\n",
       "      <td>NaN</td>\n",
       "      <td>True</td>\n",
       "    </tr>\n",
       "  </tbody>\n",
       "</table>\n",
       "</div>"
      ],
      "text/plain": [
       "   Country or Area           Commodity - Transaction    Year  \\\n",
       "11         Algeria  Conventional crude oil - exports  2014.0   \n",
       "\n",
       "                      Unit  Quantity  Quantity Footnotes nations of interest  \n",
       "11  Metric tons,  thousand   23550.0                 NaN                True  "
      ]
     },
     "execution_count": 13,
     "metadata": {},
     "output_type": "execute_result"
    }
   ],
   "source": [
    "testdf[testdf['nations of interest']]"
   ]
  },
  {
   "cell_type": "markdown",
   "metadata": {},
   "source": [
    "Success.  Only one row was intended to be selected in.\n",
    "\n",
    "#### small test step complete\n",
    "\n",
    "Successfully cropped rows for 'nations of interest'='Algeria'.\n",
    "Now to test for 3 nations of interest.\n"
   ]
  },
  {
   "cell_type": "code",
   "execution_count": 5,
   "metadata": {
    "collapsed": true
   },
   "outputs": [],
   "source": [
    "df = oil_ex\n",
    "\n",
    "testdf = df.head(75)\n",
    "\n",
    "test_nations = ['Algeria', 'Angola', 'Argentina']"
   ]
  },
  {
   "cell_type": "code",
   "execution_count": 32,
   "metadata": {
    "collapsed": false
   },
   "outputs": [],
   "source": [
    "# Is there a better way to perform this without a loop?\n",
    "country_in_test_nations = []\n",
    "for i in range(len(testdf)):\n",
    "    country_in_test_nations.append(testdf['Country or Area'][i] in test_nations)\n",
    "\n",
    "testdf['nations of interest'] = country_in_test_nations"
   ]
  },
  {
   "cell_type": "code",
   "execution_count": 35,
   "metadata": {
    "collapsed": false
   },
   "outputs": [
    {
     "data": {
      "text/plain": [
       "75"
      ]
     },
     "execution_count": 35,
     "metadata": {},
     "output_type": "execute_result"
    }
   ],
   "source": [
    "len(testdf)"
   ]
  },
  {
   "cell_type": "code",
   "execution_count": 36,
   "metadata": {
    "collapsed": false
   },
   "outputs": [
    {
     "data": {
      "text/plain": [
       "64"
      ]
     },
     "execution_count": 36,
     "metadata": {},
     "output_type": "execute_result"
    }
   ],
   "source": [
    "len(testdf[testdf['nations of interest']])"
   ]
  },
  {
   "cell_type": "markdown",
   "metadata": {},
   "source": [
    "The above indicates that intended rows were selected out.\n",
    "\n",
    "#### another test step done\n",
    "\n",
    "3 nations worked. Now try all 15."
   ]
  },
  {
   "cell_type": "code",
   "execution_count": 6,
   "metadata": {
    "collapsed": false
   },
   "outputs": [],
   "source": [
    "# Is there a better way to perform this without a loop?\n",
    "country_in_select_nations = []\n",
    "for i in range(len(oil_ex)):\n",
    "    country_in_select_nations.append(oil_ex['Country or Area'][i] in oil_exporting_nations)\n",
    "\n",
    "oil_ex['nations of interest'] = country_in_select_nations\n",
    "\n",
    "#len(oil_ex)\n",
    "\n",
    "oil_ex_only = oil_ex[oil_ex['nations of interest']]\n",
    "\n",
    "#len(oil_ex_only)"
   ]
  },
  {
   "cell_type": "code",
   "execution_count": 10,
   "metadata": {
    "collapsed": true
   },
   "outputs": [],
   "source": [
    "# super short-hand\n",
    "dfx = oil_ex_only\n",
    "#dfp = oil_prod_only"
   ]
  },
  {
   "cell_type": "code",
   "execution_count": 7,
   "metadata": {
    "collapsed": false
   },
   "outputs": [
    {
     "data": {
      "text/plain": [
       "Iraq              25\n",
       "Angola            25\n",
       "Kuwait            25\n",
       "Canada            25\n",
       "Saudi Arabia      25\n",
       "Norway            25\n",
       "Nigeria           25\n",
       "Mexico            25\n",
       "Qatar             25\n",
       "United Kingdom    25\n",
       "Kazakhstan        23\n",
       "Name: Country or Area, dtype: int64"
      ]
     },
     "execution_count": 7,
     "metadata": {},
     "output_type": "execute_result"
    }
   ],
   "source": [
    "oil_ex_only['Country or Area'].value_counts()"
   ]
  },
  {
   "cell_type": "markdown",
   "metadata": {},
   "source": [
    "### Repeat operation with oil production"
   ]
  },
  {
   "cell_type": "code",
   "execution_count": 54,
   "metadata": {
    "collapsed": false
   },
   "outputs": [
    {
     "name": "stdout",
     "output_type": "stream",
     "text": [
      "14238\n",
      "2373\n",
      "# of columns is 6.0\n"
     ]
    }
   ],
   "source": [
    "#print(oil_prod.size)\n",
    "#print(len(oil_prod))\n",
    "#print(\"# of columns is {}\".format((oil_prod.size)/(len(oil_prod))))"
   ]
  },
  {
   "cell_type": "code",
   "execution_count": 56,
   "metadata": {
    "collapsed": false
   },
   "outputs": [],
   "source": [
    "# Is there a better way to perform this without a loop?\n",
    "country_in_select_nations = []\n",
    "for i in range(len(oil_prod)):\n",
    "    country_in_select_nations.append(oil_prod['Country or Area'][i] in oil_exporting_nations)\n",
    "\n",
    "oil_prod['nations of interest'] = country_in_select_nations\n",
    "\n",
    "oil_prod_only = oil_prod[oil_prod['nations of interest']]"
   ]
  },
  {
   "cell_type": "code",
   "execution_count": 11,
   "metadata": {
    "collapsed": false
   },
   "outputs": [],
   "source": [
    "# decided not to include production oil after all\n",
    "\n",
    "# frames = [dfx, dfp]\n",
    "# df_all_oil = pd.concat(frames)\n",
    "df_all_oil = dfx"
   ]
  },
  {
   "cell_type": "markdown",
   "metadata": {},
   "source": [
    "### now for the homicide data"
   ]
  },
  {
   "cell_type": "code",
   "execution_count": 12,
   "metadata": {
    "collapsed": false
   },
   "outputs": [],
   "source": [
    "# Is there a better way to perform this without a loop?\n",
    "country_in_select_nations = []\n",
    "for i in range(len(homicide)):\n",
    "    country_in_select_nations.append(homicide['Country or Area'][i] in oil_exporting_nations)\n",
    "\n",
    "homicide['nations of interest'] = country_in_select_nations\n",
    "dfh = homicide[homicide['nations of interest']]"
   ]
  },
  {
   "cell_type": "code",
   "execution_count": 13,
   "metadata": {
    "collapsed": true
   },
   "outputs": [],
   "source": [
    "df_homicides = dfh"
   ]
  },
  {
   "cell_type": "markdown",
   "metadata": {},
   "source": [
    "### Trim unwanted columns"
   ]
  },
  {
   "cell_type": "code",
   "execution_count": 91,
   "metadata": {
    "collapsed": false
   },
   "outputs": [
    {
     "data": {
      "text/plain": [
       "Metric tons,  thousand    546\n",
       "Name: Unit, dtype: int64"
      ]
     },
     "execution_count": 91,
     "metadata": {},
     "output_type": "execute_result"
    }
   ],
   "source": [
    "s='Unit'\n",
    "df_all_oil[s].value_counts()"
   ]
  },
  {
   "cell_type": "code",
   "execution_count": 93,
   "metadata": {
    "collapsed": false
   },
   "outputs": [
    {
     "data": {
      "text/html": [
       "<div>\n",
       "<table border=\"1\" class=\"dataframe\">\n",
       "  <thead>\n",
       "    <tr style=\"text-align: right;\">\n",
       "      <th></th>\n",
       "      <th>Country or Area</th>\n",
       "      <th>Commodity - Transaction</th>\n",
       "      <th>Year</th>\n",
       "      <th>Unit</th>\n",
       "      <th>Quantity</th>\n",
       "      <th>Quantity Footnotes</th>\n",
       "      <th>nations of interest</th>\n",
       "    </tr>\n",
       "  </thead>\n",
       "  <tbody>\n",
       "    <tr>\n",
       "      <th>36</th>\n",
       "      <td>Angola</td>\n",
       "      <td>Conventional crude oil - exports</td>\n",
       "      <td>2014.0</td>\n",
       "      <td>Metric tons,  thousand</td>\n",
       "      <td>81274.0</td>\n",
       "      <td>NaN</td>\n",
       "      <td>True</td>\n",
       "    </tr>\n",
       "  </tbody>\n",
       "</table>\n",
       "</div>"
      ],
      "text/plain": [
       "   Country or Area           Commodity - Transaction    Year  \\\n",
       "36          Angola  Conventional crude oil - exports  2014.0   \n",
       "\n",
       "                      Unit  Quantity  Quantity Footnotes nations of interest  \n",
       "36  Metric tons,  thousand   81274.0                 NaN                True  "
      ]
     },
     "execution_count": 93,
     "metadata": {},
     "output_type": "execute_result"
    }
   ],
   "source": [
    "df_all_oil.head(1)"
   ]
  },
  {
   "cell_type": "code",
   "execution_count": 94,
   "metadata": {
    "collapsed": false
   },
   "outputs": [
    {
     "data": {
      "text/html": [
       "<div>\n",
       "<table border=\"1\" class=\"dataframe\">\n",
       "  <thead>\n",
       "    <tr style=\"text-align: right;\">\n",
       "      <th></th>\n",
       "      <th>Country or Area</th>\n",
       "      <th>Year</th>\n",
       "      <th>Count</th>\n",
       "      <th>Rate</th>\n",
       "      <th>Source</th>\n",
       "      <th>Source Type</th>\n",
       "      <th>nations of interest</th>\n",
       "    </tr>\n",
       "  </thead>\n",
       "  <tbody>\n",
       "    <tr>\n",
       "      <th>20</th>\n",
       "      <td>Angola</td>\n",
       "      <td>2008</td>\n",
       "      <td>3426</td>\n",
       "      <td>19.0</td>\n",
       "      <td>WHO</td>\n",
       "      <td>PH</td>\n",
       "      <td>True</td>\n",
       "    </tr>\n",
       "  </tbody>\n",
       "</table>\n",
       "</div>"
      ],
      "text/plain": [
       "   Country or Area  Year  Count  Rate Source Source Type nations of interest\n",
       "20          Angola  2008   3426  19.0    WHO          PH                True"
      ]
     },
     "execution_count": 94,
     "metadata": {},
     "output_type": "execute_result"
    }
   ],
   "source": [
    "df_homicides.head(1)"
   ]
  },
  {
   "cell_type": "code",
   "execution_count": 95,
   "metadata": {
    "collapsed": true
   },
   "outputs": [],
   "source": [
    "df_backup_all_oil = df_all_oil\n",
    "df_backup_homicides = df_homicides"
   ]
  },
  {
   "cell_type": "code",
   "execution_count": 14,
   "metadata": {
    "collapsed": false
   },
   "outputs": [
    {
     "name": "stdout",
     "output_type": "stream",
     "text": [
      "done\n"
     ]
    }
   ],
   "source": [
    "df_all_oil.drop(['Unit', 'Quantity Footnotes', 'nations of interest'], axis=1)\n",
    "df_homicides.drop(['Source', 'Source Type', 'nations of interest'], axis=1)\n",
    "print(\"done\")"
   ]
  },
  {
   "cell_type": "markdown",
   "metadata": {},
   "source": [
    "### end of Data Exploration and Manipulation\n",
    "\n",
    "# Data Visualization"
   ]
  },
  {
   "cell_type": "code",
   "execution_count": 101,
   "metadata": {
    "collapsed": false
   },
   "outputs": [
    {
     "data": {
      "text/html": [
       "<div>\n",
       "<table border=\"1\" class=\"dataframe\">\n",
       "  <thead>\n",
       "    <tr style=\"text-align: right;\">\n",
       "      <th></th>\n",
       "      <th>Country or Area</th>\n",
       "      <th>Commodity - Transaction</th>\n",
       "      <th>Year</th>\n",
       "      <th>Unit</th>\n",
       "      <th>Quantity</th>\n",
       "      <th>Quantity Footnotes</th>\n",
       "      <th>nations of interest</th>\n",
       "    </tr>\n",
       "  </thead>\n",
       "  <tbody>\n",
       "    <tr>\n",
       "      <th>36</th>\n",
       "      <td>Angola</td>\n",
       "      <td>Conventional crude oil - exports</td>\n",
       "      <td>2014.0</td>\n",
       "      <td>Metric tons,  thousand</td>\n",
       "      <td>81274.0</td>\n",
       "      <td>NaN</td>\n",
       "      <td>True</td>\n",
       "    </tr>\n",
       "  </tbody>\n",
       "</table>\n",
       "</div>"
      ],
      "text/plain": [
       "   Country or Area           Commodity - Transaction    Year  \\\n",
       "36          Angola  Conventional crude oil - exports  2014.0   \n",
       "\n",
       "                      Unit  Quantity  Quantity Footnotes nations of interest  \n",
       "36  Metric tons,  thousand   81274.0                 NaN                True  "
      ]
     },
     "execution_count": 101,
     "metadata": {},
     "output_type": "execute_result"
    }
   ],
   "source": [
    "dfx.head(1)"
   ]
  },
  {
   "cell_type": "code",
   "execution_count": 113,
   "metadata": {
    "collapsed": true
   },
   "outputs": [],
   "source": [
    "# dfp.head(1)"
   ]
  },
  {
   "cell_type": "code",
   "execution_count": 114,
   "metadata": {
    "collapsed": false
   },
   "outputs": [
    {
     "data": {
      "text/plain": [
       "Conventional crude oil - exports    273\n",
       "Name: Commodity - Transaction, dtype: int64"
      ]
     },
     "execution_count": 114,
     "metadata": {},
     "output_type": "execute_result"
    }
   ],
   "source": [
    "df_all_oil['Commodity - Transaction'].value_counts()"
   ]
  },
  {
   "cell_type": "markdown",
   "metadata": {},
   "source": [
    "### Select one country per data frame.\n",
    "\n",
    "#### PROBLEM\n",
    "Many countries have insufficient homicide data:"
   ]
  },
  {
   "cell_type": "code",
   "execution_count": 14,
   "metadata": {
    "collapsed": false
   },
   "outputs": [
    {
     "data": {
      "text/plain": [
       "Norway          16\n",
       "Kazakhstan      16\n",
       "Mexico          16\n",
       "Canada          16\n",
       "Saudi Arabia     9\n",
       "Qatar            9\n",
       "Kuwait           6\n",
       "Iraq             1\n",
       "Angola           1\n",
       "Nigeria          1\n",
       "Name: Country or Area, dtype: int64"
      ]
     },
     "execution_count": 14,
     "metadata": {},
     "output_type": "execute_result"
    }
   ],
   "source": [
    "df_homicides['Country or Area'].value_counts()"
   ]
  },
  {
   "cell_type": "markdown",
   "metadata": {},
   "source": [
    "Missing data countries: Russia, \n",
    "(UAE because of a naming entry error on my part. A bit tedious to fix now.)"
   ]
  },
  {
   "cell_type": "code",
   "execution_count": 20,
   "metadata": {
    "collapsed": true
   },
   "outputs": [],
   "source": [
    "# SAU_x = df_all_oil[df_all_oil['Country or Area']=='Saudi Arabia']\n",
    "KAZ_x = df_all_oil[df_all_oil['Country or Area']=='Kazakhstan']\n",
    "MEX_x = df_all_oil[df_all_oil['Country or Area']=='Mexico']\n",
    "CAN_x = df_all_oil[df_all_oil['Country or Area']=='Canada']\n",
    "#GBR_x = df_all_oil[df_all_oil['Country or Area']=='United Kingdom']\n",
    "NOR_x = df_all_oil[df_all_oil['Country or Area']=='Norway']\n",
    "\n",
    "# SAU_h = df_homicides[df_homicides['Country or Area']=='Saudi Arabia']\n",
    "KAZ_h = df_homicides[df_homicides['Country or Area']=='Kazakhstan']\n",
    "MEX_h = df_homicides[df_homicides['Country or Area']=='Mexico']\n",
    "CAN_h = df_homicides[df_homicides['Country or Area']=='Canada']\n",
    "#GBR_h = df_homicides[df_homicides['Country or Area']=='United Kingdom']\n",
    "NOR_h = df_homicides[df_homicides['Country or Area']=='Norway']"
   ]
  },
  {
   "cell_type": "code",
   "execution_count": 21,
   "metadata": {
    "collapsed": false
   },
   "outputs": [
    {
     "data": {
      "image/png": "[encoded data removed]",
      "text/plain": [
       "<matplotlib.figure.Figure at 0x1a9582a0320>"
      ]
     },
     "metadata": {},
     "output_type": "display_data"
    }
   ],
   "source": [
    "# Kazakhstan\n",
    "\n",
    "years = KAZ_x['Year']\n",
    "KAZ_x.index = years\n",
    "years = KAZ_h['Year']\n",
    "KAZ_h.index = years\n",
    "\n",
    "plt.figure(figsize=(10, 5))\n",
    "\n",
    "plt.subplot(1, 2, 1)\n",
    "plt.plot(KAZ_x['Quantity'], color='green')\n",
    "plt.ylabel('x 1000 metric tons')\n",
    "plt.title('Crude Oil Export')\n",
    "\n",
    "plt.subplot(1, 2, 2)\n",
    "plt.plot(KAZ_h['Rate'], color='red')\n",
    "plt.ylabel('rate per 100,000')\n",
    "plt.title('Homicide Rate')\n",
    "\n",
    "plt.show()\n",
    "\n",
    "# Kazakhstan"
   ]
  },
  {
   "cell_type": "code",
   "execution_count": 33,
   "metadata": {
    "collapsed": false
   },
   "outputs": [
    {
     "data": {
      "image/png": "[encoded data removed]",
      "text/plain": [
       "<matplotlib.figure.Figure at 0x1a9598ed390>"
      ]
     },
     "metadata": {},
     "output_type": "display_data"
    }
   ],
   "source": [
    "plt.hist(KAZ_h['Rate'], normed=True, alpha=0.9, color='orange')\n",
    "plt.hist(df_homicides['Rate'], normed=True, alpha=0.2, color='blue')\n",
    "plt.title('Homicide Rates: Kazakhstan (Highlighted) vs World Data')\n",
    "plt.ylabel('Normalized Scale')\n",
    "plt.xlabel('Homicides per 100,000 population')\n",
    "plt.show()"
   ]
  },
  {
   "cell_type": "code",
   "execution_count": 172,
   "metadata": {
    "collapsed": true
   },
   "outputs": [],
   "source": [
    "# homicide[homicide['Country or Area']=='United States of America']"
   ]
  },
  {
   "cell_type": "code",
   "execution_count": 173,
   "metadata": {
    "collapsed": false
   },
   "outputs": [
    {
     "data": {
      "image/png": "[encoded data removed]",
      "text/plain": [
       "<matplotlib.figure.Figure at 0x180a109df28>"
      ]
     },
     "metadata": {},
     "output_type": "display_data"
    }
   ],
   "source": [
    "# Mexico\n",
    "\n",
    "years = MEX_x['Year']\n",
    "MEX_x.index = years\n",
    "years = MEX_h['Year']\n",
    "MEX_h.index = years\n",
    "\n",
    "plt.figure(figsize=(10, 5))\n",
    "\n",
    "plt.subplot(1, 2, 1)\n",
    "plt.plot(MEX_x['Quantity'], color='green')\n",
    "plt.ylabel('x 1000 metric tons')\n",
    "plt.title('Crude Oil Export')\n",
    "\n",
    "plt.subplot(1, 2, 2)\n",
    "plt.plot(MEX_h['Rate'], color='red')\n",
    "plt.ylabel('rate per 100,000')\n",
    "plt.title('Homicide Rate')\n",
    "\n",
    "plt.show()\n",
    "\n",
    "# Mexico"
   ]
  },
  {
   "cell_type": "code",
   "execution_count": 34,
   "metadata": {
    "collapsed": false
   },
   "outputs": [
    {
     "data": {
      "image/png": "[encoded data removed]",
      "text/plain": [
       "<matplotlib.figure.Figure at 0x1a95988c470>"
      ]
     },
     "metadata": {},
     "output_type": "display_data"
    }
   ],
   "source": [
    "plt.hist(MEX_h['Rate'], normed=True, alpha=0.9, color='red')\n",
    "plt.hist(df_homicides['Rate'], normed=True, alpha=0.2, color='blue')\n",
    "plt.title('Homicide Rates: Mexico (Highlighted) vs World Data')\n",
    "plt.ylabel('Normalized Scale')\n",
    "plt.xlabel('Homicides per 100,000 population')\n",
    "plt.show()"
   ]
  },
  {
   "cell_type": "code",
   "execution_count": 174,
   "metadata": {
    "collapsed": false
   },
   "outputs": [
    {
     "data": {
      "image/png": "[encoded data removed]",
      "text/plain": [
       "<matplotlib.figure.Figure at 0x180a1089550>"
      ]
     },
     "metadata": {},
     "output_type": "display_data"
    }
   ],
   "source": [
    "# Canada\n",
    "\n",
    "years = CAN_x['Year']\n",
    "CAN_x.index = years\n",
    "years = CAN_h['Year']\n",
    "CAN_h.index = years\n",
    "\n",
    "plt.figure(figsize=(10, 5))\n",
    "\n",
    "plt.subplot(1, 2, 1)\n",
    "plt.plot(CAN_x['Quantity'], color='green')\n",
    "plt.ylabel('x 1000 metric tons')\n",
    "plt.title('Crude Oil Export')\n",
    "\n",
    "plt.subplot(1, 2, 2)\n",
    "plt.plot(CAN_h['Rate'], color='red')\n",
    "plt.ylabel('rate per 100,000')\n",
    "plt.title('Homicide Rate')\n",
    "\n",
    "plt.show()"
   ]
  },
  {
   "cell_type": "code",
   "execution_count": 176,
   "metadata": {
    "collapsed": false
   },
   "outputs": [
    {
     "data": {
      "image/png": "[encoded data removed]",
      "text/plain": [
       "<matplotlib.figure.Figure at 0x180a1022358>"
      ]
     },
     "metadata": {},
     "output_type": "display_data"
    }
   ],
   "source": [
    "# Norway\n",
    "\n",
    "years = NOR_x['Year']\n",
    "NOR_x.index = years\n",
    "years = NOR_h['Year']\n",
    "NOR_h.index = years\n",
    "\n",
    "plt.figure(figsize=(10, 5))\n",
    "\n",
    "plt.subplot(1, 2, 1)\n",
    "plt.plot(NOR_x['Quantity'], color='green')\n",
    "plt.ylabel('x 1000 metric tons')\n",
    "plt.title('Crude Oil Export')\n",
    "\n",
    "plt.subplot(1, 2, 2)\n",
    "plt.plot(NOR_h['Rate'], color='red')\n",
    "plt.ylabel('rate per 100,000')\n",
    "plt.title('Homicide Rate')\n",
    "\n",
    "plt.show()\n"
   ]
  },
  {
   "cell_type": "code",
   "execution_count": null,
   "metadata": {
    "collapsed": true
   },
   "outputs": [],
   "source": []
  },
  {
   "cell_type": "markdown",
   "metadata": {},
   "source": [
    "## Normal curves on homicide rates"
   ]
  },
  {
   "cell_type": "code",
   "execution_count": 18,
   "metadata": {
    "collapsed": false,
    "scrolled": true
   },
   "outputs": [
    {
     "data": {
      "text/html": [
       "<div>\n",
       "<table border=\"1\" class=\"dataframe\">\n",
       "  <thead>\n",
       "    <tr style=\"text-align: right;\">\n",
       "      <th></th>\n",
       "      <th>Country or Area</th>\n",
       "      <th>Year</th>\n",
       "      <th>Count</th>\n",
       "      <th>Rate</th>\n",
       "      <th>Source</th>\n",
       "      <th>Source Type</th>\n",
       "      <th>nations of interest</th>\n",
       "    </tr>\n",
       "  </thead>\n",
       "  <tbody>\n",
       "    <tr>\n",
       "      <th>816</th>\n",
       "      <td>Kazakhstan</td>\n",
       "      <td>2010</td>\n",
       "      <td>1418</td>\n",
       "      <td>8.8</td>\n",
       "      <td>Transmonee</td>\n",
       "      <td>CJ</td>\n",
       "      <td>True</td>\n",
       "    </tr>\n",
       "    <tr>\n",
       "      <th>817</th>\n",
       "      <td>Kazakhstan</td>\n",
       "      <td>2009</td>\n",
       "      <td>1638</td>\n",
       "      <td>10.3</td>\n",
       "      <td>Transmonee</td>\n",
       "      <td>CJ</td>\n",
       "      <td>True</td>\n",
       "    </tr>\n",
       "    <tr>\n",
       "      <th>818</th>\n",
       "      <td>Kazakhstan</td>\n",
       "      <td>2008</td>\n",
       "      <td>1680</td>\n",
       "      <td>10.7</td>\n",
       "      <td>Transmonee</td>\n",
       "      <td>CJ</td>\n",
       "      <td>True</td>\n",
       "    </tr>\n",
       "    <tr>\n",
       "      <th>819</th>\n",
       "      <td>Kazakhstan</td>\n",
       "      <td>2007</td>\n",
       "      <td>1677</td>\n",
       "      <td>10.8</td>\n",
       "      <td>Transmonee</td>\n",
       "      <td>CJ</td>\n",
       "      <td>True</td>\n",
       "    </tr>\n",
       "    <tr>\n",
       "      <th>820</th>\n",
       "      <td>Kazakhstan</td>\n",
       "      <td>2006</td>\n",
       "      <td>1760</td>\n",
       "      <td>11.5</td>\n",
       "      <td>Transmonee</td>\n",
       "      <td>CJ</td>\n",
       "      <td>True</td>\n",
       "    </tr>\n",
       "    <tr>\n",
       "      <th>821</th>\n",
       "      <td>Kazakhstan</td>\n",
       "      <td>2005</td>\n",
       "      <td>1848</td>\n",
       "      <td>12.2</td>\n",
       "      <td>Transmonee</td>\n",
       "      <td>CJ</td>\n",
       "      <td>True</td>\n",
       "    </tr>\n",
       "    <tr>\n",
       "      <th>822</th>\n",
       "      <td>Kazakhstan</td>\n",
       "      <td>2004</td>\n",
       "      <td>2091</td>\n",
       "      <td>13.9</td>\n",
       "      <td>Transmonee</td>\n",
       "      <td>CJ</td>\n",
       "      <td>True</td>\n",
       "    </tr>\n",
       "    <tr>\n",
       "      <th>823</th>\n",
       "      <td>Kazakhstan</td>\n",
       "      <td>2003</td>\n",
       "      <td>1991</td>\n",
       "      <td>13.3</td>\n",
       "      <td>Transmonee</td>\n",
       "      <td>CJ</td>\n",
       "      <td>True</td>\n",
       "    </tr>\n",
       "    <tr>\n",
       "      <th>824</th>\n",
       "      <td>Kazakhstan</td>\n",
       "      <td>2002</td>\n",
       "      <td>1967</td>\n",
       "      <td>13.2</td>\n",
       "      <td>Transmonee</td>\n",
       "      <td>CJ</td>\n",
       "      <td>True</td>\n",
       "    </tr>\n",
       "    <tr>\n",
       "      <th>825</th>\n",
       "      <td>Kazakhstan</td>\n",
       "      <td>2001</td>\n",
       "      <td>2160</td>\n",
       "      <td>14.5</td>\n",
       "      <td>Transmonee</td>\n",
       "      <td>CJ</td>\n",
       "      <td>True</td>\n",
       "    </tr>\n",
       "    <tr>\n",
       "      <th>826</th>\n",
       "      <td>Kazakhstan</td>\n",
       "      <td>2000</td>\n",
       "      <td>2325</td>\n",
       "      <td>15.5</td>\n",
       "      <td>Transmonee</td>\n",
       "      <td>CJ</td>\n",
       "      <td>True</td>\n",
       "    </tr>\n",
       "    <tr>\n",
       "      <th>827</th>\n",
       "      <td>Kazakhstan</td>\n",
       "      <td>1999</td>\n",
       "      <td>2374</td>\n",
       "      <td>15.7</td>\n",
       "      <td>Transmonee</td>\n",
       "      <td>CJ</td>\n",
       "      <td>True</td>\n",
       "    </tr>\n",
       "    <tr>\n",
       "      <th>828</th>\n",
       "      <td>Kazakhstan</td>\n",
       "      <td>1998</td>\n",
       "      <td>2531</td>\n",
       "      <td>16.6</td>\n",
       "      <td>Transmonee</td>\n",
       "      <td>CJ</td>\n",
       "      <td>True</td>\n",
       "    </tr>\n",
       "    <tr>\n",
       "      <th>829</th>\n",
       "      <td>Kazakhstan</td>\n",
       "      <td>1997</td>\n",
       "      <td>2581</td>\n",
       "      <td>16.7</td>\n",
       "      <td>Transmonee</td>\n",
       "      <td>CJ</td>\n",
       "      <td>True</td>\n",
       "    </tr>\n",
       "    <tr>\n",
       "      <th>830</th>\n",
       "      <td>Kazakhstan</td>\n",
       "      <td>1996</td>\n",
       "      <td>2625</td>\n",
       "      <td>16.7</td>\n",
       "      <td>Transmonee</td>\n",
       "      <td>CJ</td>\n",
       "      <td>True</td>\n",
       "    </tr>\n",
       "    <tr>\n",
       "      <th>831</th>\n",
       "      <td>Kazakhstan</td>\n",
       "      <td>1995</td>\n",
       "      <td>2447</td>\n",
       "      <td>15.4</td>\n",
       "      <td>Transmonee</td>\n",
       "      <td>CJ</td>\n",
       "      <td>True</td>\n",
       "    </tr>\n",
       "  </tbody>\n",
       "</table>\n",
       "</div>"
      ],
      "text/plain": [
       "    Country or Area  Year  Count  Rate      Source Source Type  \\\n",
       "816      Kazakhstan  2010   1418   8.8  Transmonee          CJ   \n",
       "817      Kazakhstan  2009   1638  10.3  Transmonee          CJ   \n",
       "818      Kazakhstan  2008   1680  10.7  Transmonee          CJ   \n",
       "819      Kazakhstan  2007   1677  10.8  Transmonee          CJ   \n",
       "820      Kazakhstan  2006   1760  11.5  Transmonee          CJ   \n",
       "821      Kazakhstan  2005   1848  12.2  Transmonee          CJ   \n",
       "822      Kazakhstan  2004   2091  13.9  Transmonee          CJ   \n",
       "823      Kazakhstan  2003   1991  13.3  Transmonee          CJ   \n",
       "824      Kazakhstan  2002   1967  13.2  Transmonee          CJ   \n",
       "825      Kazakhstan  2001   2160  14.5  Transmonee          CJ   \n",
       "826      Kazakhstan  2000   2325  15.5  Transmonee          CJ   \n",
       "827      Kazakhstan  1999   2374  15.7  Transmonee          CJ   \n",
       "828      Kazakhstan  1998   2531  16.6  Transmonee          CJ   \n",
       "829      Kazakhstan  1997   2581  16.7  Transmonee          CJ   \n",
       "830      Kazakhstan  1996   2625  16.7  Transmonee          CJ   \n",
       "831      Kazakhstan  1995   2447  15.4  Transmonee          CJ   \n",
       "\n",
       "    nations of interest  \n",
       "816                True  \n",
       "817                True  \n",
       "818                True  \n",
       "819                True  \n",
       "820                True  \n",
       "821                True  \n",
       "822                True  \n",
       "823                True  \n",
       "824                True  \n",
       "825                True  \n",
       "826                True  \n",
       "827                True  \n",
       "828                True  \n",
       "829                True  \n",
       "830                True  \n",
       "831                True  "
      ]
     },
     "execution_count": 18,
     "metadata": {},
     "output_type": "execute_result"
    }
   ],
   "source": [
    "KAZ_h"
   ]
  },
  {
   "cell_type": "code",
   "execution_count": null,
   "metadata": {
    "collapsed": true
   },
   "outputs": [],
   "source": []
  }
 ],
 "metadata": {
  "anaconda-cloud": {},
  "kernelspec": {
   "display_name": "Python [Root]",
   "language": "python",
   "name": "Python [Root]"
  },
  "language_info": {
   "codemirror_mode": {
    "name": "ipython",
    "version": 3
   },
   "file_extension": ".py",
   "mimetype": "text/x-python",
   "name": "python",
   "nbconvert_exporter": "python",
   "pygments_lexer": "ipython3",
   "version": "3.5.2"
  }
 },
 "nbformat": 4,
 "nbformat_minor": 2
}
